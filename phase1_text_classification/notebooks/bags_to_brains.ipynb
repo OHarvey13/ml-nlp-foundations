{
 "cells": [
  {
   "cell_type": "markdown",
   "metadata": {},
   "source": [
    "# Phase 1: Text Classification with ML\n",
    "This notebook will focus on training Naive Bayes and Logistic Regression using Bag-of-Words and TF-IDF, and evaluates their performance.\n",
    "Goal : Build Intution before NNs"
   ]
  },
  {
   "cell_type": "code",
   "execution_count": 3,
   "metadata": {},
   "outputs": [],
   "source": [
    "# Data fetching\n",
    "from sklearn.datasets import fetch_20newsgroups\n",
    "# Train/test split\n",
    "from sklearn.model_selection import train_test_split\n",
    "# Text vectorization\n",
    "from sklearn.feature_extraction.text import CountVectorizer\n",
    "\n",
    "# Models\n",
    "from sklearn.naive_bayes import MultinomialNB\n",
    "from sklearn.linear_model import LogisticRegression\n",
    "\n",
    "# Evaluation\n",
    "from sklearn.metrics import accuracy_score, classification_report"
   ]
  },
  {
   "cell_type": "code",
   "execution_count": 7,
   "metadata": {},
   "outputs": [
    {
     "name": "stdout",
     "output_type": "stream",
     "text": [
      "Number of documents: 18846\n",
      "Number of categories: 20\n"
     ]
    }
   ],
   "source": [
    "dataset = fetch_20newsgroups(subset='all', remove=('headers', 'footers', 'quotes'))\n",
    "news_data = dataset.data # list of text docs (news articles)\n",
    "news_target = dataset.target # numeric labels\n",
    "target_names = dataset.target_names # text labels (category names)\n",
    "print(f\"Number of documents: {len(news_data)}\")\n",
    "print(f\"Number of categories: {len(target_names)}\")"
   ]
  },
  {
   "cell_type": "code",
   "execution_count": 12,
   "metadata": {},
   "outputs": [
    {
     "name": "stdout",
     "output_type": "stream",
     "text": [
      "Training documents: 15076\n",
      "Test samples: 3770\n"
     ]
    }
   ],
   "source": [
    "X_train, x_test, y_train, y_test = train_test_split(news_data, news_target, test_size=0.2, random_state=42)\n",
    "print(f\"Training documents: {len(X_train)}\")\n",
    "print(f\"Test samples: {len(x_test)}\")"
   ]
  },
  {
   "cell_type": "code",
   "execution_count": 16,
   "metadata": {},
   "outputs": [
    {
     "name": "stdout",
     "output_type": "stream",
     "text": [
      "Number of features (BoW): 111275\n"
     ]
    }
   ],
   "source": [
    "# Bag of Words (BoW) vectorization\n",
    "bow_vectorizer = CountVectorizer(stop_words = 'english')\n",
    "X_train_bow = bow_vectorizer.fit_transform(X_train)\n",
    "x_test_bow = bow_vectorizer.transform(x_test)\n",
    "print(f\"Number of features (BoW): {X_train_bow.shape[1]}\")"
   ]
  },
  {
   "cell_type": "code",
   "execution_count": null,
   "metadata": {},
   "outputs": [],
   "source": [
    "    "
   ]
  }
 ],
 "metadata": {
  "kernelspec": {
   "display_name": "conda-ments",
   "language": "python",
   "name": "python3"
  },
  "language_info": {
   "codemirror_mode": {
    "name": "ipython",
    "version": 3
   },
   "file_extension": ".py",
   "mimetype": "text/x-python",
   "name": "python",
   "nbconvert_exporter": "python",
   "pygments_lexer": "ipython3",
   "version": "3.13.2"
  }
 },
 "nbformat": 4,
 "nbformat_minor": 2
}
