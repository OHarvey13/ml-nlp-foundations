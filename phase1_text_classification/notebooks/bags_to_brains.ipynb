{
 "cells": [
  {
   "cell_type": "markdown",
   "metadata": {},
   "source": [
    "# Phase 1: Text Classification with ML\n",
    "This notebook will focus on training Naive Bayes and Logistic Regression using Bag-of-Words and TF-IDF, and evaluates their performance.\n",
    "Goal : Build Intution before NNs"
   ]
  },
  {
   "cell_type": "code",
   "execution_count": null,
   "metadata": {},
   "outputs": [],
   "source": [
    "from sklearn.datasets import fetch_20newsgroups\n",
    "dataset = fethch_20newsgroups(subset='all')\n",
    "news_data = dataset.data # list of text docs (news articles)\n",
    "news_target = dataset.target # numeric labels"
   ]
  }
 ],
 "metadata": {
  "kernelspec": {
   "display_name": "conda-ments",
   "language": "python",
   "name": "python3"
  },
  "language_info": {
   "codemirror_mode": {
    "name": "ipython",
    "version": 3
   },
   "file_extension": ".py",
   "mimetype": "text/x-python",
   "name": "python",
   "nbconvert_exporter": "python",
   "pygments_lexer": "ipython3",
   "version": "3.13.2"
  }
 },
 "nbformat": 4,
 "nbformat_minor": 2
}
